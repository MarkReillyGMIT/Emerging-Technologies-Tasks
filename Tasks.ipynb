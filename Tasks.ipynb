{
 "cells": [
  {
   "cell_type": "markdown",
   "metadata": {},
   "source": [
    "# Emerging Technologies\n",
    "***"
   ]
  },
  {
   "cell_type": "markdown",
   "metadata": {},
   "source": [
    "Jupyter notebook for Emerging Technologies module to keep track of tasks.\n",
    "Author: Mark Reilly\n",
    "ID: G00357230 \n",
    "***"
   ]
  },
  {
   "cell_type": "markdown",
   "metadata": {},
   "source": [
    "## Tasks\n",
    "***"
   ]
  },
  {
   "cell_type": "markdown",
   "metadata": {},
   "source": [
    "1. Write a Python function called sqrt2 that calculates and\n",
    "prints to the screen the square root of 2 to 100 decimal places. Your code should\n",
    "not depend on any module from the standard library1."
   ]
  },
  {
   "cell_type": "markdown",
   "metadata": {},
   "source": [
    "2. TBC"
   ]
  },
  {
   "cell_type": "markdown",
   "metadata": {},
   "source": [
    "3. TBC"
   ]
  },
  {
   "cell_type": "markdown",
   "metadata": {},
   "source": [
    "4. TBC"
   ]
  },
  {
   "cell_type": "markdown",
   "metadata": {},
   "source": [
    "# Task 1: Caluclate a square root\n",
    "***"
   ]
  },
  {
   "cell_type": "markdown",
   "metadata": {},
   "source": [
    "We can calculate the square root of a number using Newton's method [1].We can find the square root $z$ of a number $x$ using the following formula[2].\n",
    "\n",
    "$$ Z = 0.5 (X + \\frac{N}{X}) $$\n"
   ]
  },
  {
   "cell_type": "code",
   "execution_count": 5,
   "metadata": {},
   "outputs": [],
   "source": [
    "def sqrt(n):\n",
    "    \"\"\"\n",
    "    A function to calculate the square root of a number n.\n",
    "    \"\"\"\n",
    "    # X is any guess which can be assumed to be N or 1.\n",
    "    x = n\n",
    "    # Tolerance\n",
    "    l = 0.00001\n",
    "        \n",
    "    count = 0\n",
    "    \n",
    "    while (l) :\n",
    "        count += l\n",
    "        # Calculate a more accurate guess for z\n",
    "        z = 0.5 * (x +n/x)\n",
    "        # If calculated root comes inside the tolerance allowed then break out of the loop.\n",
    "        if(abs(z - x) < l):\n",
    "            break\n",
    "        # Update z\n",
    "        x = z\n",
    "            \n",
    "    return z"
   ]
  },
  {
   "cell_type": "code",
   "execution_count": 7,
   "metadata": {},
   "outputs": [
    {
     "name": "stdout",
     "output_type": "stream",
     "text": [
      "The Square Root of 2 is: 1.4142135623746898698271934335934929549694061279296875000000000000000000000000000000000000000000000000\n"
     ]
    }
   ],
   "source": [
    "print (\"The Square Root of 2 is: {:.100f}\".format(sqrt(2)))"
   ]
  },
  {
   "cell_type": "markdown",
   "metadata": {},
   "source": [
    "As seen above the sqrt() function can only output a value of 53 bits of precision.\n",
    "\n",
    "\n",
    "Rewriting the function so that it can calculate the square root to 100 decimal places.\n"
   ]
  },
  {
   "cell_type": "markdown",
   "metadata": {},
   "source": [
    "# Research"
   ]
  },
  {
   "cell_type": "markdown",
   "metadata": {},
   "source": [
    "<b>Definition of Square Root:</b>\n",
    "\n",
    "The square root of a number is another number which produces the first number when it is multiplied by itself. For example, the square root of 16 is 4 [4].\n",
    "\n",
    "Algorithms for calculating square root:\n",
    "\n",
    "<b>Newtons Method</b> for computing the square root of a number. Let a given number be $b$ and let $x$ be a rough guess of the square root of $b$. Newtons method suggests that a better guess, $New x$ can be computed as follows [5]:\n",
    "\n",
    "$$ New x = 0.5 (x + \\frac{b}{x}) $$\n",
    "\n",
    "You can start with $b$ as a rough guess and compute $New x$. From $New x$ you can generate a even better guess, until two successive guesses are very close. Either of these guesses can be considered the square root of $b$ [5].\n",
    "\n",
    "<b>The Babylonian</b> method for finding square root of a number. Make an inital guess using any positive number $x0$.\n",
    "Improve the guess by appling the following formula:\n",
    "\n",
    "$$ x1 = \\frac{(x0 + \\frac{S}{x0})}{2} $$\n",
    "\n",
    "Iterate until convergence, apply result of formula back in as $x1$ and iterate until the desired amount of agreed decimal places is reached."
   ]
  },
  {
   "cell_type": "markdown",
   "metadata": {},
   "source": [
    "# Testing"
   ]
  },
  {
   "cell_type": "code",
   "execution_count": 12,
   "metadata": {},
   "outputs": [
    {
     "name": "stdout",
     "output_type": "stream",
     "text": [
      "The Square Root of 2 is: 1.4142135623730951454746218587388284504413604736328125000000000000000000000000000000000000000000000000\n"
     ]
    }
   ],
   "source": [
    "import math\n",
    "print (\"The Square Root of 2 is: {:.100f}\".format(math.sqrt(2)))"
   ]
  },
  {
   "cell_type": "markdown",
   "metadata": {},
   "source": [
    "# References"
   ]
  },
  {
   "cell_type": "markdown",
   "metadata": {},
   "source": [
    "[1] https://en.wikipedia.org/wiki/Newton%27s_method\n",
    "\n",
    "[2] https://www.geeksforgeeks.org/find-root-of-a-number-using-newtons-method/\n",
    "\n",
    "[3] https://docs.python.org/2/tutorial/floatingpoint.html\n",
    "\n",
    "[4] https://www.collinsdictionary.com/dictionary/english/square-root\n",
    "\n",
    "[5] https://pages.mtu.edu/~shene/COURSES/cs201/NOTES/chap06/sqrt-1.html\n",
    "\n",
    "[6] https://blogs.sas.com/content/iml/2016/05/16/babylonian-square-roots.html"
   ]
  },
  {
   "cell_type": "code",
   "execution_count": null,
   "metadata": {},
   "outputs": [],
   "source": []
  }
 ],
 "metadata": {
  "kernelspec": {
   "display_name": "Python 3",
   "language": "python",
   "name": "python3"
  },
  "language_info": {
   "codemirror_mode": {
    "name": "ipython",
    "version": 3
   },
   "file_extension": ".py",
   "mimetype": "text/x-python",
   "name": "python",
   "nbconvert_exporter": "python",
   "pygments_lexer": "ipython3",
   "version": "3.8.3"
  }
 },
 "nbformat": 4,
 "nbformat_minor": 4
}
