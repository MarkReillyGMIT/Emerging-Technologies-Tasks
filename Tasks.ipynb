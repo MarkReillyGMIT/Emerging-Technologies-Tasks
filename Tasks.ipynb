{
 "cells": [
  {
   "cell_type": "markdown",
   "metadata": {},
   "source": [
    "# Emerging Technologies\n",
    "***"
   ]
  },
  {
   "cell_type": "markdown",
   "metadata": {},
   "source": [
    "Jupyter notebook for Emerging Technologies module to keep track of tasks.\n",
    "Author: Mark Reilly\n",
    "ID: G00357230 \n",
    "***"
   ]
  },
  {
   "cell_type": "markdown",
   "metadata": {},
   "source": [
    "## Tasks\n",
    "***"
   ]
  },
  {
   "cell_type": "markdown",
   "metadata": {},
   "source": [
    "1. Write a Python function called sqrt2 that calculates and\n",
    "prints to the screen the square root of 2 to 100 decimal places. Your code should\n",
    "not depend on any module from the standard library1."
   ]
  },
  {
   "cell_type": "markdown",
   "metadata": {},
   "source": [
    "2. TBC"
   ]
  },
  {
   "cell_type": "markdown",
   "metadata": {},
   "source": [
    "3. TBC"
   ]
  },
  {
   "cell_type": "markdown",
   "metadata": {},
   "source": [
    "4. TBC"
   ]
  },
  {
   "cell_type": "markdown",
   "metadata": {},
   "source": [
    "# Task 1: Caluclate a square root\n",
    "***"
   ]
  },
  {
   "cell_type": "markdown",
   "metadata": {},
   "source": [
    "We can calculate the square root of a number using Newton's method [1].We can find the square root $z$ of a number $x$ using the following formula[2].\n",
    "\n",
    "$$ Z = 0.5 (X + (\\frac{N}{X})) $$\n",
    "\n",
    "\n",
    "[1] https://en.wikipedia.org/wiki/Newton%27s_method\n",
    "\n",
    "[2] https://www.geeksforgeeks.org/find-root-of-a-number-using-newtons-method/"
   ]
  },
  {
   "cell_type": "code",
   "execution_count": 31,
   "metadata": {},
   "outputs": [],
   "source": [
    "def sqrt(n):\n",
    "    \"\"\"\n",
    "    A function to calculate the square root of a number n.\n",
    "    \"\"\"\n",
    "    # X is any guess which can be assumed to be N or 1.\n",
    "    x = n\n",
    "    # Tolerance\n",
    "    l = 0.00001\n",
    "    \n",
    "    count = 0\n",
    "    \n",
    "    while (l) :\n",
    "        count += l\n",
    "        # Calculate a more accurate guess for z\n",
    "        z = 0.5 * (x +(n/x))\n",
    "        # If calculated root comes inside the tolerance allowed then break out of the loop.\n",
    "        if(abs(z - x) < l):\n",
    "            break\n",
    "        # Update z\n",
    "        x = z\n",
    "            \n",
    "    return z"
   ]
  },
  {
   "cell_type": "code",
   "execution_count": 32,
   "metadata": {},
   "outputs": [
    {
     "data": {
      "text/plain": [
       "1.4142135623746899"
      ]
     },
     "execution_count": 32,
     "metadata": {},
     "output_type": "execute_result"
    }
   ],
   "source": [
    "sqrt(2)"
   ]
  },
  {
   "cell_type": "markdown",
   "metadata": {},
   "source": [
    "Rewriting the function so that it can calculate the square root to 100 decimal places."
   ]
  },
  {
   "cell_type": "code",
   "execution_count": null,
   "metadata": {},
   "outputs": [],
   "source": []
  }
 ],
 "metadata": {
  "kernelspec": {
   "display_name": "Python 3",
   "language": "python",
   "name": "python3"
  },
  "language_info": {
   "codemirror_mode": {
    "name": "ipython",
    "version": 3
   },
   "file_extension": ".py",
   "mimetype": "text/x-python",
   "name": "python",
   "nbconvert_exporter": "python",
   "pygments_lexer": "ipython3",
   "version": "3.8.3"
  }
 },
 "nbformat": 4,
 "nbformat_minor": 4
}
