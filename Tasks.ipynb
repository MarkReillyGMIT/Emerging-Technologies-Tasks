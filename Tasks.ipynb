{
 "cells": [
  {
   "cell_type": "markdown",
   "metadata": {},
   "source": [
    "# Emerging Technologies\n",
    "***"
   ]
  },
  {
   "cell_type": "markdown",
   "metadata": {},
   "source": [
    "Jupyter notebook for Emerging Technologies module to keep track of tasks.\n",
    "Author: Mark Reilly\n",
    "ID: G00357230 \n",
    "***"
   ]
  },
  {
   "cell_type": "markdown",
   "metadata": {},
   "source": [
    "## Tasks\n",
    "***"
   ]
  },
  {
   "cell_type": "markdown",
   "metadata": {},
   "source": [
    "1. Write a Python function called sqrt2 that calculates and\n",
    "prints to the screen the square root of 2 to 100 decimal places. Your code should\n",
    "not depend on any module from the standard library1."
   ]
  },
  {
   "cell_type": "markdown",
   "metadata": {},
   "source": [
    "2. The Chi-squared test for independence is a statistical hypothesis test like a t-test. It is used to analyse   whether two categorical variables are independent.Use  scipy.stats to verify this value and calculate the  associated p value. You should include a short note with  references justifying your analysis in a markdown cell.\n"
   ]
  },
  {
   "cell_type": "markdown",
   "metadata": {},
   "source": [
    "3. The standard deviation of an array of numbers <span style=\"background-color: #FFFF00\"> x</span> is calculated using <span style=\"background-color: #FFFF00\">numpy</span> as <span style=\"background-color: #FFFF00\">np.sqrt(np.sum((x - np.mean(x))**2)/len(x))</span> .\n",
    "However, Microsoft Excel has two different versions of the standard deviation calculation, <span style=\"background-color: #FFFF00\">STDEV.P</span> and <span style=\"background-color: #FFFF00\">STDEV.S</span> . The <span style=\"background-color: #FFFF00\">STDEV.P</span> function performs the above\n",
    "calculation but in the <span style=\"background-color: #FFFF00\">STDEV.S</span> calculation the division is by <span style=\"background-color: #FFFF00\">len(x)-1 </span> rather\n",
    "than <span style=\"background-color: #FFFF00\">len(x)</span> . Research these Excel functions, writing a note in a Markdown cell\n",
    "about the difference between them. Then use numpy to perform a simulation\n",
    "demonstrating that the <span style=\"background-color: #FFFF00\">STDEV.S</span> calculation is a better estimate for the standard deviation of a population when performed on a sample. Note that part of\n",
    "this task is to figure out the terminology in the previous sentence."
   ]
  },
  {
   "cell_type": "markdown",
   "metadata": {},
   "source": [
    "4. Use scikit-learn to apply kNN clustering to Fisher’s famous Iris data set. You will easily obtain a copy of the data set online. Explain in a Markdown cell how your code works and how accurate it might be, and then explain how your model could be used to make predictions of species of iris.\n"
   ]
  },
  {
   "cell_type": "markdown",
   "metadata": {},
   "source": [
    "***\n",
    "# Task 1: Caluclate a square root\n",
    "<br>"
   ]
  },
  {
   "cell_type": "markdown",
   "metadata": {},
   "source": [
    "### Introduction"
   ]
  },
  {
   "cell_type": "markdown",
   "metadata": {},
   "source": [
    "Having read the brief I will complete the following list of tasks:\n",
    "<br>\n",
    "\n",
    "- Research the following:\n",
    "    - Definition of square root\n",
    "    - Newtons Method\n",
    "    - Babylonian Method\n",
    "    - F-String Formatting\n",
    "- Calculate the square root using python.\n",
    "- Test the function and compare output with another function that imports decimal.\n",
    "- Review work and write a conclusion.\n",
    "- Continually add references to the section."
   ]
  },
  {
   "cell_type": "markdown",
   "metadata": {},
   "source": [
    "## Research"
   ]
  },
  {
   "cell_type": "markdown",
   "metadata": {},
   "source": [
    "<b>Definition of Square Root:</b>\n",
    "\n",
    "The square root of a number is another number which produces the first number when it is multiplied by itself. For example, the square root of 16 is 4 [4].\n",
    "\n",
    "Algorithms for calculating square root:\n",
    "\n",
    "<b>Newtons Method</b> for computing the square root of a number. Let a given number be $b$ and let $x$ be a rough guess of the square root of $b$. Newtons method suggests that a better guess, $New x$ can be computed as follows [5]:\n",
    "\n",
    "$$ New x = 0.5 (x + \\frac{b}{x}) $$\n",
    "\n",
    "You can start with $b$ as a rough guess and compute $New x$. From $New x$ you can generate a even better guess, until two successive guesses are very close. Either of these guesses can be considered the square root of $b$ [5].\n",
    "\n",
    "<b>The Babylonian</b> method for finding square root of a number. Make an inital guess using any positive number $x0$.\n",
    "Improve the guess by appling the following formula [6] :\n",
    "\n",
    "$$ x1 = \\frac{(x0 + \\frac{S}{x0})}{2} $$\n",
    "\n",
    "Iterate until convergence, apply result of formula back in as $x1$ and iterate until the desired amount of agreed decimal places is reached.\n",
    "\n",
    "\n",
    "<b>F-String formatting</b>[8,9]\n",
    "Floating point values have the f suffix. We can also specify the precision: the number of decimal places. The precision is a value that goes right after the dot character.\n"
   ]
  },
  {
   "cell_type": "markdown",
   "metadata": {},
   "source": [
    "We can calculate the square root of a number using Newton's method [1].We can find the square root $z$ of a number $x$ using the following formula[2].\n",
    "\n",
    "$$ Z = 0.5 (X + \\frac{N}{X}) $$\n"
   ]
  },
  {
   "cell_type": "code",
   "execution_count": 37,
   "metadata": {},
   "outputs": [],
   "source": [
    "# Adapted from: https://www.geeksforgeeks.org/find-root-of-a-number-using-newtons-method/\n",
    "def sqrtTest():\n",
    "    \"\"\"\n",
    "    A function to calculate the square root of a number n.\n",
    "    \"\"\"\n",
    "    # X is any guess which can be assumed to be N or 1.\n",
    "    x = 2\n",
    "    # Tolerance\n",
    "    l = 0.00001\n",
    "        \n",
    "    count = 0\n",
    "    \n",
    "    while (l) :\n",
    "        count += l\n",
    "        # Calculate a more accurate guess for z\n",
    "        z = 0.5 * (x +2/x)\n",
    "        # If calculated root comes inside the tolerance allowed then break out of the loop.\n",
    "        if(abs(z - x) < l):\n",
    "            break\n",
    "        # Update z\n",
    "        x = z\n",
    "            \n",
    "    return z"
   ]
  },
  {
   "cell_type": "code",
   "execution_count": 38,
   "metadata": {
    "scrolled": true
   },
   "outputs": [
    {
     "name": "stdout",
     "output_type": "stream",
     "text": [
      "The Square Root of 2 is: 1.4142135623746898698271934335934929549694061279296875000000000000000000000000000000000000000000000000\n"
     ]
    }
   ],
   "source": [
    "print (\"The Square Root of 2 is: {:.100f}\".format(sqrtTest()))"
   ]
  },
  {
   "cell_type": "markdown",
   "metadata": {},
   "source": [
    "As seen above the sqrt() function can only output a value of 53 bits of precision."
   ]
  },
  {
   "cell_type": "code",
   "execution_count": 9,
   "metadata": {},
   "outputs": [
    {
     "name": "stdout",
     "output_type": "stream",
     "text": [
      "1.4142135623730950488016887242096980785696718753769480731766797379907324784621070388503875343276415727\n"
     ]
    }
   ],
   "source": [
    "# Adapted from: https://stackoverflow.com/questions/64278117/is-there-a-way-to-create-more-decimal-points-on-python-without-importing-a-libra\n",
    "\n",
    "\"\"\"\n",
    "Function to calculate square root of 2 and output the result correct to 100 decimal places.\n",
    "\"\"\"\n",
    "\n",
    "x = 2 * 10 ** 200\n",
    "\n",
    "r = x\n",
    "\n",
    "def sqrt(x, r):\n",
    "    d0 = abs(x - r**2)\n",
    "    dm = abs(x - (r-1)**2)\n",
    "    dp = abs(x - (r+1)**2)\n",
    "    minimised = d0 <= dm and d0 <= dp\n",
    "    below_min = dp < dm\n",
    "    return minimised, below_min\n",
    "\n",
    "while True:\n",
    "    oldr = r\n",
    "    r = (r + x // r) // 2\n",
    "\n",
    "    minimised, below_min = test_diffs(x, r)\n",
    "    if minimised:\n",
    "        break\n",
    "\n",
    "    if r == oldr:\n",
    "        if below_min:\n",
    "            r += 1\n",
    "        else:\n",
    "            r -= 1\n",
    "        minimised, _ = test_diffs(x, r)\n",
    "        if minimised:\n",
    "            break\n",
    "\n",
    "print(f'{r // 10**100}.{r % 10**100:0100d}')"
   ]
  },
  {
   "cell_type": "code",
   "execution_count": 33,
   "metadata": {},
   "outputs": [],
   "source": [
    "# Using above example to help with this function.\n",
    "def sqrt():\n",
    "    \"\"\"\n",
    "    A function to calculate the square root of 2 to 100 decimal places.\n",
    "    \"\"\"\n",
    "    # X is any guess which can be assumed to be N or 1.\n",
    "    x = 2\n",
    "    \n",
    "    num = x * 10 ** 200\n",
    "    \n",
    "    # Initial guess of x which is halfway between 0 and num\n",
    "    z = num//2\n",
    "    \n",
    "    # Iterate 1000 times using the below equation. \n",
    "    for i in range(0, 1000):\n",
    "        z = (z + num//z)//2\n",
    "        \n",
    "            \n",
    "    # Return the result and by using format specifiers [8], add the decimal point after the first digit.\n",
    "    return f'{z // 10**100}.{z % 10**100:0100d}'\n",
    "\n"
   ]
  },
  {
   "cell_type": "code",
   "execution_count": 9,
   "metadata": {},
   "outputs": [
    {
     "data": {
      "text/plain": [
       "'1.4142135623730950488016887242096980785696718753769480731766797379907324784621070388503875343276415727'"
      ]
     },
     "execution_count": 9,
     "metadata": {},
     "output_type": "execute_result"
    }
   ],
   "source": [
    "sqrt()"
   ]
  },
  {
   "cell_type": "markdown",
   "metadata": {},
   "source": [
    "<br>\n",
    "\n",
    "## Testing "
   ]
  },
  {
   "cell_type": "code",
   "execution_count": 12,
   "metadata": {},
   "outputs": [
    {
     "name": "stdout",
     "output_type": "stream",
     "text": [
      "The Square Root of 2 is: 1.4142135623730951454746218587388284504413604736328125000000000000000000000000000000000000000000000000\n"
     ]
    }
   ],
   "source": [
    "import math\n",
    "print (\"The Square Root of 2 is: {:.100f}\".format(math.sqrt(2)))"
   ]
  },
  {
   "cell_type": "code",
   "execution_count": 55,
   "metadata": {},
   "outputs": [
    {
     "name": "stdout",
     "output_type": "stream",
     "text": [
      "\n",
      "Sqaure root of 2 to 100 decimal places :  1.414213562373095048801688724209698078569671875376948073176679737990732478462107038850387534327641573\n"
     ]
    }
   ],
   "source": [
    "# Adapted from https://stackoverflow.com/questions/4733173/how-can-i-show-an-irrational-number-to-100-decimal-places-in-python\n",
    "from decimal import *\n",
    "getcontext().prec = 100\n",
    "a = Decimal(2)\n",
    "print (\"\\nSqaure root of 2 to 100 decimal places : \", a.sqrt()) "
   ]
  },
  {
   "cell_type": "code",
   "execution_count": 57,
   "metadata": {},
   "outputs": [
    {
     "name": "stdout",
     "output_type": "stream",
     "text": [
      "<class 'decimal.Decimal'>\n",
      "<class 'str'>\n",
      "The numbers are equal \n"
     ]
    }
   ],
   "source": [
    "# Adapted from: https://www.journaldev.com/23715/python-convert-string-to-float#:~:text=We%20can%20convert%20a%20string,object%20__float__()%20function.\n",
    "'''\n",
    "Converting types to float values and then comparing to see if equal.\n",
    "'''\n",
    "getcontext().prec = 100\n",
    "DecimalSqrt = a.sqrt()\n",
    "sqrt = sqrt()\n",
    "\n",
    "# Showing what type each output is.\n",
    "print(type(DecimalSqrt))\n",
    "print(type(sqrt))\n",
    "\n",
    "# Convert to float, cannot compare String value and a decimal.Decimal value.\n",
    "DecimalSqrt =float(DecimalSqrt)\n",
    "sqrt = float(sqrt)\n",
    "\n",
    "# https://www.geeksforgeeks.org/problem-in-comparing-floating-point-numbers-and-how-to-compare-them-correctly/\n",
    "def compareFloatNum(a, b): \n",
    "      \n",
    "    # Correct method to compare \n",
    "    # floating-ponumbers \n",
    "    if (abs(a - b) < 1e-9): \n",
    "        print(\"The numbers are equal \"); \n",
    "    else: \n",
    "        print(\"The numbers are not equal \");\n",
    "        \n",
    "compareFloatNum(DecimalSqrt, sqrt)"
   ]
  },
  {
   "cell_type": "markdown",
   "metadata": {},
   "source": [
    "<br>\n",
    "\n",
    "## Conclusion and Learning Outcomes"
   ]
  },
  {
   "cell_type": "markdown",
   "metadata": {},
   "source": [
    "- Newtons Method is a fast approximation to calculate the square root of a number.\n",
    "- Newtons Method works by taking in a value and iterating using newtons equation until the desired value is achieved, i.e. the difference between the current value and the start vlaue divided by the current value is small enough.\n",
    "- Implemented a function to calculate the square root of two, but only could calculate the result to an accuracy of 53 bits.\n",
    "- Learned that there is 53 bits of precision available for a python float. [3]\n",
    "- Reseached how to calculate the result to 100 decimal places.\n",
    "- Found a function that used format specifiers that was able to display the square root of 2 to 100 decimals.\n",
    "- Adapated this function and was able to complete the task.\n",
    "- Compare the outputs from my sqrt() function and the function using the Decimal import, both outputs are equal."
   ]
  },
  {
   "cell_type": "markdown",
   "metadata": {},
   "source": [
    "<br>\n",
    "\n",
    "## References"
   ]
  },
  {
   "cell_type": "markdown",
   "metadata": {},
   "source": [
    "[1] https://en.wikipedia.org/wiki/Newton%27s_method\n",
    "\n",
    "[2] https://www.geeksforgeeks.org/find-root-of-a-number-using-newtons-method/\n",
    "\n",
    "[3] https://docs.python.org/2/tutorial/floatingpoint.html\n",
    "\n",
    "[4] https://www.collinsdictionary.com/dictionary/english/square-root\n",
    "\n",
    "[5] https://pages.mtu.edu/~shene/COURSES/cs201/NOTES/chap06/sqrt-1.html\n",
    "\n",
    "[6] https://blogs.sas.com/content/iml/2016/05/16/babylonian-square-roots.html\n",
    "\n",
    "[7] https://stackoverflow.com/questions/64278117/is-there-a-way-to-create-more-decimal-points-on-python-without-importing-a-libra\n",
    "\n",
    "[8] https://www.python.org/dev/peps/pep-0498/#format-specifiers\n",
    "\n",
    "[9] https://stackoverflow.com/questions/45310254/fixed-digits-after-decimal-with-f-strings/45310389"
   ]
  },
  {
   "cell_type": "markdown",
   "metadata": {},
   "source": [
    "***"
   ]
  },
  {
   "cell_type": "markdown",
   "metadata": {},
   "source": [
    "<br>\n",
    "\n",
    "# Task 2: The Chi-Squared Test"
   ]
  },
  {
   "cell_type": "markdown",
   "metadata": {},
   "source": [
    "The Chi-squared test for independence is a statistical hypothesis test like a t-test. It is used to analyse whether two categorical variables are independent. The Wikipedia article gives the table below as an example, stating the Chi-squared value based on it is approximately 24.6. Use scipy.stats to verify this value and calculate the associated p value. You should include a short note with references justifying your analysis in a markdown cell.\n",
    "\n",
    "The null hypothesis is that each person's neighborhood of residence is independent of the person's occupational classification."
   ]
  },
  {
   "cell_type": "markdown",
   "metadata": {},
   "source": [
    "| | A | B | C | D | Total |\n",
    "| :- | :-: | :-: |:-: |:-: |:-: |\n",
    "| White Collar | 90 | 60 | 104 | 95 | 349 |\n",
    "| Blue Collar | 30 | 50 | 51 | 20 | 151 |\n",
    "| No Collar | 30 | 40 | 45 | 35 | 150 |\n",
    "| Total | 150 | 150 | 200 | 150 | 650 |"
   ]
  },
  {
   "cell_type": "markdown",
   "metadata": {},
   "source": [
    "<br>\n",
    "\n",
    "## Introduction"
   ]
  },
  {
   "cell_type": "markdown",
   "metadata": {},
   "source": [
    "Having read the brief I will complete the following list of tasks:\n",
    "<br>\n",
    "\n",
    "- Research the Chi-Squared test.\n",
    "\n",
    "- Research Chi-Squared formula and how to use it.\n",
    "\n",
    "- Calculate the Chi-Squared value through theory.\n",
    "\n",
    "- Calculate the Chi-Sqaured value using scipy.stats.\n",
    "\n",
    "- Analyse the results.\n",
    "\n",
    "- Continually add references to the section."
   ]
  },
  {
   "cell_type": "markdown",
   "metadata": {},
   "source": [
    "#### What is the Chi-Squared Test?"
   ]
  },
  {
   "cell_type": "markdown",
   "metadata": {},
   "source": [
    "The Chi-square test is intended to test how likely it is that an observed distribution is due to chance. It is also called a \"goodness of fit\" statistic, because it measures how well the observed distribution of data fits with the distribution that is expected if the variables are independent. Chi is the greek letter Χ, so we can also write it Χ2 Test.[2] It is important to note that the test only works with categorical data, this means the data has to be counted and sorted into categories, it will not work with parametric or continuous data e.g height in inches."
   ]
  },
  {
   "cell_type": "markdown",
   "metadata": {},
   "source": [
    "<br>\n",
    "\n",
    "## Research"
   ]
  },
  {
   "cell_type": "markdown",
   "metadata": {},
   "source": [
    "#### The Chi-Squared Formula [1]"
   ]
  },
  {
   "cell_type": "markdown",
   "metadata": {},
   "source": [
    "$$ X = \\frac{(O - E)^2}{E} $$\n",
    "\n",
    "$O$ stands for the Observed Frequency, this is the frequencies observed in the sample data.\n",
    "\n",
    "$E$ stands for the Expected Frequency, $$ \\frac{Row Total * Column Total}{N} $$\n",
    "\n",
    "\n"
   ]
  },
  {
   "cell_type": "markdown",
   "metadata": {},
   "source": [
    "<br>\n",
    "\n",
    "### Calculating the Chi-Square Value  in theory"
   ]
  },
  {
   "cell_type": "markdown",
   "metadata": {},
   "source": [
    "In the following I am going to calculate the Chi-Squared Value for the above data.\n",
    "\n",
    "$$ Expected Frequency = \\frac{349 * 150}{650} $$"
   ]
  },
  {
   "cell_type": "code",
   "execution_count": 12,
   "metadata": {},
   "outputs": [
    {
     "name": "stdout",
     "output_type": "stream",
     "text": [
      "Expected Frequency = 80.53846153846153\n"
     ]
    }
   ],
   "source": [
    "Row = 349\n",
    "Column = 150\n",
    "Total =650\n",
    "\n",
    "ExpectedFreq = (Row*Column)/Total\n",
    "print(\"Expected Frequency =\", +ExpectedFreq)"
   ]
  },
  {
   "cell_type": "markdown",
   "metadata": {},
   "source": [
    "$$ Expected Frequency = 80.5385 $$\n",
    "\n",
    "Now that we have the Expected Frequency we can calulate the Chi-Squared Value for position (1,1) in the data using the formula.\n",
    "\n",
    "$$ X = \\frac{(90 - 80.5385)^2}{80.5385} $$\n"
   ]
  },
  {
   "cell_type": "code",
   "execution_count": 13,
   "metadata": {},
   "outputs": [
    {
     "name": "stdout",
     "output_type": "stream",
     "text": [
      "Value for position (1,1) =  1.111517873439411\n"
     ]
    }
   ],
   "source": [
    "ExpectedF = 80.5385\n",
    "Observed = 90\n",
    "\n",
    "X = ((Observed - ExpectedF)**2)/ExpectedF\n",
    "print(\"Value for position (1,1) = \", + X)"
   ]
  },
  {
   "cell_type": "markdown",
   "metadata": {},
   "source": [
    "The above example was to calculate the Chi-squared value for position (1,1) in the data, this has to be done for all the observed values in the table. When this is done all the values are summed. This summed total is then used to calculate the p-Value.[1]"
   ]
  },
  {
   "cell_type": "markdown",
   "metadata": {},
   "source": [
    "<br>\n",
    "\n",
    "### Calculating Chi-Squared value using scipy.stats"
   ]
  },
  {
   "cell_type": "code",
   "execution_count": 40,
   "metadata": {},
   "outputs": [
    {
     "name": "stdout",
     "output_type": "stream",
     "text": [
      "<class 'tuple'>\n",
      "The chi statistic = 24.5712028585826\n",
      "The p-Value = 0.0004098425861096696\n",
      "The degree of freedom = 6\n"
     ]
    }
   ],
   "source": [
    "#Adpated from https://docs.scipy.org/doc/scipy/reference/generated/scipy.stats.chi2_contingency.html?highlight=scipy%20stats%20chi2_contingency#scipy.stats.chi2_contingency\n",
    "\"\"\"\n",
    "The following function calculates chi-square statistic and p-value.\n",
    "\"\"\"\n",
    "\n",
    "from scipy.stats import chi2_contingency\n",
    "import numpy as np \n",
    "\n",
    "ObservedData = np.array([[90, 60, 104, 95], [30, 50, 51, 20], [30, 40, 45, 35]])\n",
    "\n",
    "Chi_Square = chi2_contingency(ObservedData)\n",
    "\n",
    "print(type(Chi_Square))\n",
    "print(\"The chi statistic =\", + Chi_Square[0])\n",
    "print(\"The p-Value =\", + Chi_Square[1])\n",
    "print(\"The degree of freedom =\", + Chi_Square[2])\n"
   ]
  },
  {
   "cell_type": "markdown",
   "metadata": {},
   "source": [
    "<br>\n",
    "\n",
    "### Analysis of Results"
   ]
  },
  {
   "cell_type": "markdown",
   "metadata": {},
   "source": [
    "For a Chi-square test, a p-value that is less than or equal to your significance level indicates there is sufficient evidence to conclude that the observed distribution is not the same as the expected distribution. You can conclude that a relationship exists between the categorical variables.[4] Based on this statement we can reject the null hypothesis that each person's neighborhood of residence is independent of the person's occupational classification, since the p-value of 0.0004 is less than the significance level of 0.05."
   ]
  },
  {
   "cell_type": "markdown",
   "metadata": {},
   "source": [
    "## References"
   ]
  },
  {
   "cell_type": "markdown",
   "metadata": {},
   "source": [
    "[1] https://www.ling.upenn.edu/~clight/chisquared.htm\n",
    "\n",
    "[2] https://www.mathsisfun.com/data/chi-square-test.html \n",
    "\n",
    "[3] https://docs.scipy.org/doc/scipy/reference/generated/scipy.stats.chi2_contingency.html?highlight=scipy%20stats%20chi2_contingency#scipy.stats.chi2_contingency\n",
    "\n",
    "[4] https://statisticsbyjim.com/hypothesis-testing/chi-square-test-independence-example/#:~:text=For%20a%20Chi%2Dsquare%20test,exists%20between%20the%20categorical%20variables. "
   ]
  },
  {
   "cell_type": "markdown",
   "metadata": {},
   "source": [
    "***\n",
    "# Task 3"
   ]
  },
  {
   "cell_type": "markdown",
   "metadata": {},
   "source": [
    "The standard deviation of an array of numbers <span style=\"background-color: #FFFF00\"> x</span> is\n",
    "calculated using <span style=\"background-color: #FFFF00\">numpy</span> as <span style=\"background-color: #FFFF00\">np.sqrt(np.sum((x - np.mean(x))**2)/len(x))</span> .\n",
    "However, Microsoft Excel has two different versions of the standard deviation calculation, <span style=\"background-color: #FFFF00\">STDEV.P</span> and <span style=\"background-color: #FFFF00\">STDEV.S</span> . The <span style=\"background-color: #FFFF00\">STDEV.P</span> function performs the above\n",
    "calculation but in the <span style=\"background-color: #FFFF00\">STDEV.S</span> calculation the division is by <span style=\"background-color: #FFFF00\">len(x)-1 </span> rather\n",
    "than <span style=\"background-color: #FFFF00\">len(x)</span> . Research these Excel functions, writing a note in a Markdown cell\n",
    "about the difference between them. Then use numpy to perform a simulation\n",
    "demonstrating that the <span style=\"background-color: #FFFF00\">STDEV.S</span> calculation is a better estimate for the standard deviation of a population when performed on a sample. Note that part of\n",
    "this task is to figure out the terminology in the previous sentence."
   ]
  },
  {
   "cell_type": "markdown",
   "metadata": {},
   "source": [
    "<br>\n",
    "\n",
    "### Introduction"
   ]
  },
  {
   "cell_type": "markdown",
   "metadata": {},
   "source": [
    "Having read the brief I will complete the following list of tasks:\n",
    "<br>\n",
    "\n",
    "- Complete research on STDEV.P and STDEV.S explaining what the functions do.\n",
    "\n",
    "- Compare the differences between the functions.\n",
    "\n",
    "- Use numpy to perform a simulation demonstrating that the STDEV.S calculation is a better estimate for the standard deviation of a population when performed on a sample\n",
    "\n",
    "- Explain my code.\n",
    "\n",
    "- Continually add to references section."
   ]
  },
  {
   "cell_type": "markdown",
   "metadata": {},
   "source": [
    "<br>\n",
    "\n",
    "### Research"
   ]
  },
  {
   "cell_type": "markdown",
   "metadata": {},
   "source": [
    "<b> Standard Deviation:</b>\n",
    "<br>\n",
    "Standard deviation is a measure of how much variance there is in a set of numbers compared to the average (mean) of the numbers. A low standard deviation indicates that the values tend to be close to the mean of the set, while a high standard deviation indicates that the values are spread out over a wider range.[3]\n",
    "\n",
    "<b>STDEV.P:</b>\n",
    "<br>\n",
    "The STDEV.P function calculates the standard deviation for a sample set of data. The STDEV.P function is meant to estimate standard deviation for an entire population.[1]\n",
    "\n",
    "<b>STDEV.S</b>\n",
    "<br>\n",
    "The STDEV.S is a Statistical function that calculates and returns the standard deviation for a sample of data. The STDEV.S calculates standard deviation using the “n-1” method.[2]\n",
    "\n",
    "<b> Compare the differences between STDEV.P and STDEV.S:</b>\n",
    "<br>\n",
    "- The STDEV.P function is used when your data represents the entire population. The STDEV.S function is used when your data is a sample of the entire population.\n",
    "\n",
    "- If we have dataset which is the number of people living in Ireland, we would use STDEV.P because it is <span style=\"background-color: #FFFF00\">All</span> the people in Ireland. Whereas if the dataset is a sample of <span style=\"background-color: #FFFF00\">Some</span> of the people in Ireland, we would ues STDEV.S becuase it is a subset of the whole population.\n",
    "\n",
    "- In STDEV.P function, the squared deviation is divided by the total number of arguments, mostly represented as N. In STDEV.S, the squared deviation is divided by the total number of sample -1. It is represented as N-1.[4]\n",
    "\n",
    "- STDEV.P function considers entire data, and some factors may dominate the result standard deviation. And since it will be taken as the standard deviation for everyone in data, even for minorities, this is called Biased Analysis. This is why this standard deviation is recommended to use only when an analysis is non-destructive.[4]\n",
    "- The STDEV.S function is used on a small sample of the entire population, and we subtract one from the denominator (number of samples arguments). This is called non-biassed analysis of standard deviation. This is used when an analysis is destructive.[4]"
   ]
  },
  {
   "cell_type": "markdown",
   "metadata": {},
   "source": [
    "### Calculation"
   ]
  },
  {
   "cell_type": "markdown",
   "metadata": {},
   "source": [
    "Use numpy to perform a simulation demonstrating that the STDEV.S calculation is a better estimate for the standard deviation of a population when performed on a sample."
   ]
  },
  {
   "cell_type": "markdown",
   "metadata": {},
   "source": [
    "#### Simulating the data using numpy.random.normal"
   ]
  },
  {
   "cell_type": "markdown",
   "metadata": {},
   "source": [
    "numpy.random.normal draw random samples from a normal (Gaussian) distribution.[6] \n",
    "\n",
    "This function takes in three parameters:[6]\n",
    "- loc: float or array_like of floats - Mean (“centre”) of the distribution.\n",
    "\n",
    "- scale: float or array_like of floats - Standard deviation (spread or “width”) of the distribution. Must be non-negative.\n",
    "\n",
    "- size: int or tuple of ints, optional Output shape. If the given shape is, e.g., (m, n, k), then m * n * k samples are drawn. If size is None (default), a single value is returned if loc and scale are both scalars. Otherwise, np.broadcast(loc, scale).size samples are drawn."
   ]
  },
  {
   "cell_type": "code",
   "execution_count": 38,
   "metadata": {},
   "outputs": [],
   "source": [
    "# Adapated from https://numpy.org/doc/stable/reference/random/generated/numpy.random.normal.html\n",
    "import numpy as np\n",
    "#Set the loc, scale and size\n",
    "loc = 40\n",
    "scale = 3\n",
    "size = 1000\n",
    "\n",
    "# Simulating the data using numpy.random.normal\n",
    "simulation = np.random.normal(loc,scale,size)\n"
   ]
  },
  {
   "cell_type": "markdown",
   "metadata": {},
   "source": [
    "#### Calculating standard deviation using numpy"
   ]
  },
  {
   "cell_type": "code",
   "execution_count": 39,
   "metadata": {},
   "outputs": [
    {
     "data": {
      "text/plain": [
       "3.020372747307692"
      ]
     },
     "execution_count": 39,
     "metadata": {},
     "output_type": "execute_result"
    }
   ],
   "source": [
    "\n",
    "#Using STDEV.P formula to calculate standard deviation\n",
    "def stdev_P(x):\n",
    "    return np.sqrt(np.sum((x - np.mean(x))**2)/len(x))\n",
    "\n",
    "stdev_P(simulation)"
   ]
  },
  {
   "cell_type": "code",
   "execution_count": 40,
   "metadata": {},
   "outputs": [
    {
     "data": {
      "text/plain": [
       "3.0218840672658187"
      ]
     },
     "execution_count": 40,
     "metadata": {},
     "output_type": "execute_result"
    }
   ],
   "source": [
    "#Using STDEV.S formula to calculate standard deviation\n",
    "def stdev_S(x):\n",
    "    return np.sqrt(np.sum((x - np.mean(x))**2)/(len(x)-1))\n",
    "\n",
    "stdev_S(simulation)"
   ]
  },
  {
   "cell_type": "markdown",
   "metadata": {},
   "source": [
    "#### Which is a better estimate for standard deviation?"
   ]
  },
  {
   "cell_type": "code",
   "execution_count": 41,
   "metadata": {},
   "outputs": [
    {
     "name": "stdout",
     "output_type": "stream",
     "text": [
      "STDEV.P result: 3.020372747307692\n"
     ]
    }
   ],
   "source": [
    "# Adapted from https://www.codegrepper.com/code-examples/python/numpy+standard+deviation\n",
    "\n",
    "#Calculate standard deviation using numpy.std()\n",
    "# as default, std() calculates basesd on a population\n",
    "STDEVP = np.std(simulation)\n",
    "\n",
    "print(\"STDEV.P result:\", STDEVP)"
   ]
  },
  {
   "cell_type": "code",
   "execution_count": 42,
   "metadata": {},
   "outputs": [
    {
     "name": "stdout",
     "output_type": "stream",
     "text": [
      "STDEV.S result: 3.0218840672658187\n"
     ]
    }
   ],
   "source": [
    "# Adapted from https://www.codegrepper.com/code-examples/python/numpy+standard+deviation\n",
    "\n",
    "#Calculate standard deviation using numpy.std()\n",
    "# by specifying ddof=1, it calculates based on the sample\n",
    "STDEVS = np.std(simulation, ddof=1)\n",
    "\n",
    "print(\"STDEV.S result:\", STDEVS)"
   ]
  },
  {
   "cell_type": "code",
   "execution_count": 43,
   "metadata": {},
   "outputs": [],
   "source": [
    "# Adapted from https://docs.scipy.org/doc//numpy-1.10.4/reference/generated/numpy.random.choice.html\n",
    "\n",
    "#numpy.random.choice() Generates a random sample from a given array\n",
    "sample = np.random.choice(simulation, 30)\n",
    "np.random.shuffle(sample)"
   ]
  },
  {
   "cell_type": "code",
   "execution_count": 48,
   "metadata": {},
   "outputs": [
    {
     "name": "stdout",
     "output_type": "stream",
     "text": [
      "STDEV.P result using a sample: 3.020372747307692\n",
      "STDEV.P Calculation Accuracy: 89.93%\n",
      "\n",
      "STDEV.S result using a sample: 3.0218840672658187\n",
      "STDEV.P Calculation Accuracy: 91.46%\n"
     ]
    }
   ],
   "source": [
    "stdev_P(sample)\n",
    "print(\"STDEV.P result using a sample:\", STDEVP)\n",
    "print(f'STDEV.P Accuracy: {(stdev_P(sample)/3)*100:0.2f}%')\n",
    "\n",
    "stdev_S(sample)\n",
    "print(\"\\nSTDEV.S result using a sample:\", STDEVS)\n",
    "print(f'STDEV.P Accuracy: {(stdev_S(sample)/3)*100:0.2f}%')"
   ]
  },
  {
   "cell_type": "markdown",
   "metadata": {},
   "source": [
    "### Analysis of Results"
   ]
  },
  {
   "cell_type": "markdown",
   "metadata": {},
   "source": [
    "From analysing the results of the sample data the STDEV.S function calculated a better estimate to the true Standard Deviation of 3 with a result of 3.0218840672658187 and an Accuracy of 91.46%. \n",
    "\n",
    "The simulation proves that the STDEV.S function is more accurate at calculating Standard Deviation on a sample of data, giving a better estimation of the true Standard Deviation when compared with STDEV.P."
   ]
  },
  {
   "cell_type": "markdown",
   "metadata": {},
   "source": [
    "<br>\n",
    "\n",
    "### References"
   ]
  },
  {
   "cell_type": "markdown",
   "metadata": {},
   "source": [
    "[1] STDEV.P definition - https://exceljet.net/excel-functions/excel-stdev.p-function#:~:text=The%20STDEV.,deviation%20for%20an%20entire%20population.\n",
    "\n",
    "[2] STDEV.S definition - https://www.spreadsheetweb.com/excel-stdev-s-function/#:~:text=S%20(STDEV%20S)%20is%20a,%E2%80%9Cn%2D1%E2%80%9D%20method.\n",
    "\n",
    "[3] Standard Deviation definition - https://en.wikipedia.org/wiki/Standard_deviation\n",
    "\n",
    "[4] Difference between STDEV.P & STDEV.S - https://www.exceltip.com/statistical-formulas/how-to-use-excel-stdev-p-function.html#:~:text=Let's%20Explore.-,The%20STDEV.,sample%20of%20the%20entire%20population.\n",
    "\n",
    "[5] Calculation of Stddev.P & Stddev.S - https://www.codegrepper.com/code-examples/python/numpy+standard+deviation\n",
    "\n",
    "[6] Simulating data - https://numpy.org/doc/stable/reference/random/generated/numpy.random.normal.html"
   ]
  },
  {
   "cell_type": "markdown",
   "metadata": {},
   "source": [
    "***\n",
    "# Task 4"
   ]
  },
  {
   "cell_type": "markdown",
   "metadata": {},
   "source": [
    "Use scikit-learn to apply kNN clustering to Fisher’s famous Iris data set. You will easily obtain a copy of the data set online. Explain in a Markdown cell how your code works and how accurate it might be, and then explain how your model could be used to make predictions of species of iris."
   ]
  },
  {
   "cell_type": "markdown",
   "metadata": {},
   "source": [
    "### Introduction"
   ]
  },
  {
   "cell_type": "markdown",
   "metadata": {},
   "source": [
    "Having read the question I will complete the following list of tasks:\n",
    "\n",
    "- Complete research on the meaning of scikit-learn and kNN clustering.\n",
    "- Using Fisher's famous Iris data set, use scikit-learn to apply kNN clustering to this data set.\n",
    "- Explain the above code and how accurate it might be.\n",
    "- Explain how the model could be used to make predictions of species of iris.\n",
    "- Continually add to references section."
   ]
  },
  {
   "cell_type": "markdown",
   "metadata": {},
   "source": [
    "### Research"
   ]
  },
  {
   "cell_type": "markdown",
   "metadata": {},
   "source": [
    "##### Scikit-Learn"
   ]
  },
  {
   "cell_type": "markdown",
   "metadata": {},
   "source": [
    "Scikit-learn provides a range of supervised and unsupervised learning algorithms via a consistent interface in Python. It's built upon NumPy, pandas, and Matplotlib.[1]\n",
    "\n",
    "The functionality that scikit-learn provides include:[1]\n",
    "\n",
    "- Regression, including Linear and Logistic Regression\n",
    "- Classification, including K-Nearest Neighbors\n",
    "- Clustering, including K-Means and K-Means++\n",
    "- Model selection\n",
    "- Preprocessing, including Min-Max Normalization\n",
    "\n",
    "<b>Unsupervised Machine Learning</b>\n",
    "\n",
    "Unsupervised learning is where you only have input data (X) and no corresponding output variables. The goal for unsupervised learning is to model the underlying structure or distribution in the data in order to learn more about the data.[2]\n",
    "\n",
    "<b>Supervised Machine Learning</b>\n",
    "\n",
    "Supervised learning is where you have input variables (x) and an output variable (Y) and you use an algorithm to learn the mapping function from the input to the output. The goal is to approximate the mapping function so well that when you have new input data (x) that you can predict the output variables (Y) for that data."
   ]
  },
  {
   "cell_type": "markdown",
   "metadata": {},
   "source": [
    "#### k-Nearest Neighbors "
   ]
  },
  {
   "cell_type": "markdown",
   "metadata": {},
   "source": [
    "<b> k-Nearest Neighbors Algorithm</b>\n",
    "\n",
    "The k-nearest neighbors algorithm is a supervised machine learning algorithm that can be used to solve both classification and regression problems. The KNN algorithm assumes that similar things exist in close proximity. In other words, similar things are near to each other. Using ‘feature similarity’ to predict the values of new datapoints which further means that the new data point will be assigned a value based on how closely it matches the points in the training set. We can understand its working with the help of following steps − [3,4]\n",
    "\n",
    "- For implementing any algorithm, we need dataset. So during the first step of KNN, we must load the training as well as test data.\n",
    "- Next, we need to choose the value of K i.e. the nearest data points. K can be any integer.\n",
    "- For each point in the test data do the following −\n",
    "    - Calculate the distance between test data and each row of training data with the help of any of the method namely: Euclidean, Manhattan or Hamming distance. The most commonly used method to calculate distance is Euclidean.\n",
    "    - Now, based on the distance value, sort them in ascending order.\n",
    "    - Next, it will choose the top K rows from the sorted array.\n",
    "    - Now, it will assign a class to the test point based on most frequent class of these rows.\n",
    "\n",
    "<b> Clustering</b>\n",
    "\n",
    "Clustering is a Machine Learning technique that involves the grouping of data points. Given a set of data points, we can use a clustering algorithm (k-mean algorithm) to classify each data point into a specific group. Clustering is a method of unsupervised learning and is a common technique for statistical data analysis used in many fields.[4]\n"
   ]
  },
  {
   "cell_type": "markdown",
   "metadata": {},
   "source": [
    "### Using scikit-learn for k-NN clustering "
   ]
  },
  {
   "cell_type": "markdown",
   "metadata": {},
   "source": [
    "<b> The Dataset </b>\n",
    "\n",
    "I am going to use the famous iris dataset. The dataset consists of four attributes: sepal-width, sepal-length, petal-width and petal-length. These are the attributes of specific types of iris plant. The task is to predict the class to which these plants belong. There are three classes in the dataset: Iris-setosa, Iris-versicolor and Iris-virginica.[6]"
   ]
  },
  {
   "cell_type": "code",
   "execution_count": 9,
   "metadata": {},
   "outputs": [
    {
     "data": {
      "text/html": [
       "<div>\n",
       "<style scoped>\n",
       "    .dataframe tbody tr th:only-of-type {\n",
       "        vertical-align: middle;\n",
       "    }\n",
       "\n",
       "    .dataframe tbody tr th {\n",
       "        vertical-align: top;\n",
       "    }\n",
       "\n",
       "    .dataframe thead th {\n",
       "        text-align: right;\n",
       "    }\n",
       "</style>\n",
       "<table border=\"1\" class=\"dataframe\">\n",
       "  <thead>\n",
       "    <tr style=\"text-align: right;\">\n",
       "      <th></th>\n",
       "      <th>sepal-length</th>\n",
       "      <th>sepal-width</th>\n",
       "      <th>petal-length</th>\n",
       "      <th>petal-width</th>\n",
       "      <th>Class</th>\n",
       "    </tr>\n",
       "  </thead>\n",
       "  <tbody>\n",
       "    <tr>\n",
       "      <th>0</th>\n",
       "      <td>5.1</td>\n",
       "      <td>3.5</td>\n",
       "      <td>1.4</td>\n",
       "      <td>0.2</td>\n",
       "      <td>Iris-setosa</td>\n",
       "    </tr>\n",
       "    <tr>\n",
       "      <th>1</th>\n",
       "      <td>4.9</td>\n",
       "      <td>3.0</td>\n",
       "      <td>1.4</td>\n",
       "      <td>0.2</td>\n",
       "      <td>Iris-setosa</td>\n",
       "    </tr>\n",
       "    <tr>\n",
       "      <th>2</th>\n",
       "      <td>4.7</td>\n",
       "      <td>3.2</td>\n",
       "      <td>1.3</td>\n",
       "      <td>0.2</td>\n",
       "      <td>Iris-setosa</td>\n",
       "    </tr>\n",
       "    <tr>\n",
       "      <th>3</th>\n",
       "      <td>4.6</td>\n",
       "      <td>3.1</td>\n",
       "      <td>1.5</td>\n",
       "      <td>0.2</td>\n",
       "      <td>Iris-setosa</td>\n",
       "    </tr>\n",
       "    <tr>\n",
       "      <th>4</th>\n",
       "      <td>5.0</td>\n",
       "      <td>3.6</td>\n",
       "      <td>1.4</td>\n",
       "      <td>0.2</td>\n",
       "      <td>Iris-setosa</td>\n",
       "    </tr>\n",
       "    <tr>\n",
       "      <th>...</th>\n",
       "      <td>...</td>\n",
       "      <td>...</td>\n",
       "      <td>...</td>\n",
       "      <td>...</td>\n",
       "      <td>...</td>\n",
       "    </tr>\n",
       "    <tr>\n",
       "      <th>15</th>\n",
       "      <td>5.7</td>\n",
       "      <td>4.4</td>\n",
       "      <td>1.5</td>\n",
       "      <td>0.4</td>\n",
       "      <td>Iris-setosa</td>\n",
       "    </tr>\n",
       "    <tr>\n",
       "      <th>16</th>\n",
       "      <td>5.4</td>\n",
       "      <td>3.9</td>\n",
       "      <td>1.3</td>\n",
       "      <td>0.4</td>\n",
       "      <td>Iris-setosa</td>\n",
       "    </tr>\n",
       "    <tr>\n",
       "      <th>17</th>\n",
       "      <td>5.1</td>\n",
       "      <td>3.5</td>\n",
       "      <td>1.4</td>\n",
       "      <td>0.3</td>\n",
       "      <td>Iris-setosa</td>\n",
       "    </tr>\n",
       "    <tr>\n",
       "      <th>18</th>\n",
       "      <td>5.7</td>\n",
       "      <td>3.8</td>\n",
       "      <td>1.7</td>\n",
       "      <td>0.3</td>\n",
       "      <td>Iris-setosa</td>\n",
       "    </tr>\n",
       "    <tr>\n",
       "      <th>19</th>\n",
       "      <td>5.1</td>\n",
       "      <td>3.8</td>\n",
       "      <td>1.5</td>\n",
       "      <td>0.3</td>\n",
       "      <td>Iris-setosa</td>\n",
       "    </tr>\n",
       "  </tbody>\n",
       "</table>\n",
       "<p>20 rows × 5 columns</p>\n",
       "</div>"
      ],
      "text/plain": [
       "    sepal-length  sepal-width  petal-length  petal-width        Class\n",
       "0            5.1          3.5           1.4          0.2  Iris-setosa\n",
       "1            4.9          3.0           1.4          0.2  Iris-setosa\n",
       "2            4.7          3.2           1.3          0.2  Iris-setosa\n",
       "3            4.6          3.1           1.5          0.2  Iris-setosa\n",
       "4            5.0          3.6           1.4          0.2  Iris-setosa\n",
       "..           ...          ...           ...          ...          ...\n",
       "15           5.7          4.4           1.5          0.4  Iris-setosa\n",
       "16           5.4          3.9           1.3          0.4  Iris-setosa\n",
       "17           5.1          3.5           1.4          0.3  Iris-setosa\n",
       "18           5.7          3.8           1.7          0.3  Iris-setosa\n",
       "19           5.1          3.8           1.5          0.3  Iris-setosa\n",
       "\n",
       "[20 rows x 5 columns]"
      ]
     },
     "execution_count": 9,
     "metadata": {},
     "output_type": "execute_result"
    }
   ],
   "source": [
    "# Adapted from - [6]\n",
    "# Importing the Iris Dataset\n",
    "import pandas as pd\n",
    "import matplotlib.pyplot as plt\n",
    "\n",
    "url = \"https://archive.ics.uci.edu/ml/machine-learning-databases/iris/iris.data\"\n",
    "\n",
    "# Assign colum names to the dataset\n",
    "names = ['sepal-length', 'sepal-width', 'petal-length', 'petal-width', 'Class']\n",
    "\n",
    "\n",
    "# Read dataset to pandas dataframe\n",
    "dataset = pd.read_csv(url, names=names)\n",
    "\n",
    "#Output the dataset\n",
    "dataset.head(20)"
   ]
  },
  {
   "cell_type": "markdown",
   "metadata": {},
   "source": [
    "<b> Split the dataset into its attributes and labels </b>\n"
   ]
  },
  {
   "cell_type": "code",
   "execution_count": 10,
   "metadata": {},
   "outputs": [],
   "source": [
    "# Adapted from - [6]\n",
    "X = dataset.iloc[:, :-1].values\n",
    "y = dataset.iloc[:, 4].values"
   ]
  },
  {
   "cell_type": "markdown",
   "metadata": {},
   "source": [
    "<b> Train Test Split </b>\n",
    "\n",
    "To avoid over-fitting, we will divide our dataset into training and test splits, which gives us a better idea as to how our algorithm performed during the testing phase. This way our algorithm is tested on un-seen data, as it would be in a production application.[6]\n",
    "\n",
    "<b> Over-fitting </b>is a modeling error that occurs when a function is too closely fit to a limited set of data points.[7]"
   ]
  },
  {
   "cell_type": "code",
   "execution_count": 12,
   "metadata": {},
   "outputs": [],
   "source": [
    "# Adapted from - [6]\n",
    "from sklearn.model_selection import train_test_split\n",
    "X_train, X_test, y_train, y_test = train_test_split(X, y, test_size=0.20)"
   ]
  },
  {
   "cell_type": "markdown",
   "metadata": {},
   "source": [
    "<b> Feature Scaling </b>\n",
    "\n",
    "Before making any actual predictions, it is always a good practice to scale the features so that all of them can be uniformly evaluated.[6] \n"
   ]
  },
  {
   "cell_type": "code",
   "execution_count": 13,
   "metadata": {},
   "outputs": [],
   "source": [
    "# Adapted from - [6]\n",
    "from sklearn.preprocessing import StandardScaler\n",
    "scaler = StandardScaler()\n",
    "scaler.fit(X_train)\n",
    "\n",
    "X_train = scaler.transform(X_train)\n",
    "X_test = scaler.transform(X_test)"
   ]
  },
  {
   "cell_type": "markdown",
   "metadata": {},
   "source": [
    "<b>Training and Predictions</b>\n",
    "\n",
    "Import the KNeighborsClassifier class from the sklearn.neighbors library. In the second line, this class is initialized with one parameter, i.e. n_neigbours. This is basically the value for the K. There is no ideal value for K and it is selected after testing and evaluation, however to start out, 5 seems to be the most commonly used value for KNN algorithm.[6]"
   ]
  },
  {
   "cell_type": "code",
   "execution_count": 23,
   "metadata": {},
   "outputs": [],
   "source": [
    "# Adapted from - [6]\n",
    "from sklearn.neighbors import KNeighborsClassifier\n",
    "classifier = KNeighborsClassifier(n_neighbors=1)\n",
    "classifier.fit(X_train, y_train)\n",
    "y_pred = classifier.predict(X_test)"
   ]
  },
  {
   "cell_type": "markdown",
   "metadata": {},
   "source": [
    "<b> Evaluating the Algorithm </b>\n",
    "\n",
    "For evaluating an algorithm, confusion matrix, precision, recall and f1 score are the most commonly used metrics. The confusion_matrix and classification_report methods of the sklearn.metrics can be used to calculate these metrics.[6] \n",
    "\n",
    "A<b> Confusion matrix </b> is a table that is often used to describe the performance of a classification model (or \"classifier\") on a set of test data for which the true values are known.\n",
    "\n",
    "<b> Precision </b> is the ratio of correctly predicted positive observations to the total predicted positive observations.High precision relates to the low false positive rate. [8]\n",
    "\n",
    "$$ Precision = \\frac{(True Positive)}{True Positive + False Positive} $$\n",
    "\n",
    "\n",
    "<b> Recall</b> calculates how many of the Actual Positives our model captures through labeling it as Positive (True Positive). Applying the same understanding, we know that Recall shall be the model metric we use to select our best model when there is a high cost associated with False Negative.[8]\n",
    "\n",
    "$$ Recall = \\frac{True Positive}{True Positive + False Negative} $$\n",
    "\n",
    "$$  = \\frac{True Positive}{True Actual Positive} $$\n",
    "\n",
    "<b>F1-Score</b> is needed when you want to seek a balance between Precision and Recall AND there is an uneven class distribution (large number of Actual Negatives).[8]\n",
    "\n",
    "\n",
    "$$  F1 = 2x\\frac{Precision * Recall}{Precision + Recall} $$"
   ]
  },
  {
   "cell_type": "code",
   "execution_count": 24,
   "metadata": {},
   "outputs": [
    {
     "name": "stdout",
     "output_type": "stream",
     "text": [
      "[[12  0  0]\n",
      " [ 0  8  1]\n",
      " [ 0  1  8]]\n",
      "                 precision    recall  f1-score   support\n",
      "\n",
      "    Iris-setosa       1.00      1.00      1.00        12\n",
      "Iris-versicolor       0.89      0.89      0.89         9\n",
      " Iris-virginica       0.89      0.89      0.89         9\n",
      "\n",
      "       accuracy                           0.93        30\n",
      "      macro avg       0.93      0.93      0.93        30\n",
      "   weighted avg       0.93      0.93      0.93        30\n",
      "\n"
     ]
    }
   ],
   "source": [
    "# Adapted from - [6]\n",
    "from sklearn.metrics import classification_report, confusion_matrix\n",
    "print(confusion_matrix(y_test, y_pred))\n",
    "print(classification_report(y_test, y_pred))"
   ]
  },
  {
   "cell_type": "code",
   "execution_count": null,
   "metadata": {},
   "outputs": [],
   "source": []
  },
  {
   "cell_type": "code",
   "execution_count": null,
   "metadata": {},
   "outputs": [],
   "source": []
  },
  {
   "cell_type": "markdown",
   "metadata": {},
   "source": [
    "#### References"
   ]
  },
  {
   "cell_type": "markdown",
   "metadata": {},
   "source": [
    "[1] Explaining Scikit-learn - https://www.codecademy.com/articles/scikit-learn\n",
    "\n",
    "[2] Supervised and Unsupervised Machine Learning definitions - https://machinelearningmastery.com/supervised-and-unsupervised-machine-learning-algorithms/\n",
    "\n",
    "[3] K-NN explained - https://towardsdatascience.com/machine-learning-basics-with-the-k-nearest-neighbors-algorithm-6a6e71d01761\n",
    "\n",
    "[4] K-NN Algorithm -https://www.tutorialspoint.com/machine_learning_with_python/machine_learning_with_python_knn_algorithm_finding_nearest_neighbors.htm\n",
    "\n",
    "[5] Clustering Definition - https://towardsdatascience.com/the-5-clustering-algorithms-data-scientists-need-to-know-a36d136ef68#:~:text=Clustering%20is%20a%20Machine%20Learning,the%20grouping%20of%20data%20points.&text=In%20theory%2C%20data%20points%20that,dissimilar%20properties%20and%2For%20features.\n",
    "\n",
    "[6] Using scikit learn and k-nn algorithm - https://stackabuse.com/k-nearest-neighbors-algorithm-in-python-and-scikit-learn/\n",
    "\n",
    "[7] Over-fitting - https://www.investopedia.com/terms/o/overfitting.asp#:~:text=Overfitting%20is%20a%20modeling%20error,in%20the%20data%20under%20study.\n",
    "\n",
    "[8] Precision, recall and F1 - https://towardsdatascience.com/accuracy-precision-recall-or-f1-331fb37c5cb9"
   ]
  },
  {
   "cell_type": "markdown",
   "metadata": {},
   "source": [
    "End"
   ]
  }
 ],
 "metadata": {
  "kernelspec": {
   "display_name": "Python 3",
   "language": "python",
   "name": "python3"
  },
  "language_info": {
   "codemirror_mode": {
    "name": "ipython",
    "version": 3
   },
   "file_extension": ".py",
   "mimetype": "text/x-python",
   "name": "python",
   "nbconvert_exporter": "python",
   "pygments_lexer": "ipython3",
   "version": "3.8.5"
  }
 },
 "nbformat": 4,
 "nbformat_minor": 4
}
