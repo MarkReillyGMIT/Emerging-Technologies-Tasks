{
 "cells": [
  {
   "cell_type": "markdown",
   "metadata": {},
   "source": [
    "# Emerging Technologies\n",
    "***"
   ]
  },
  {
   "cell_type": "markdown",
   "metadata": {},
   "source": [
    "Jupyter notebook for Emerging Technologies module to keep track of tasks.\n",
    "Author: Mark Reilly\n",
    "ID: G00357230 \n",
    "***"
   ]
  },
  {
   "cell_type": "markdown",
   "metadata": {},
   "source": [
    "## Tasks\n",
    "***"
   ]
  },
  {
   "cell_type": "markdown",
   "metadata": {},
   "source": [
    "1. Write a Python function called sqrt2 that calculates and\n",
    "prints to the screen the square root of 2 to 100 decimal places. Your code should\n",
    "not depend on any module from the standard library1."
   ]
  },
  {
   "cell_type": "markdown",
   "metadata": {},
   "source": [
    "2. The Chi-squared test for independence is a statistical hypothesis test like a t-test. It is used to analyse   whether two categorical variables are independent.Use  scipy.stats to verify this value and calculate the  associated p value. You should include a short note with  references justifying your analysis in a markdown cell.\n"
   ]
  },
  {
   "cell_type": "markdown",
   "metadata": {},
   "source": [
    "3. The standard deviation of an array of numbers <span style=\"background-color: #FFFF00\"> x</span> is calculated using <span style=\"background-color: #FFFF00\">numpy</span> as <span style=\"background-color: #FFFF00\">np.sqrt(np.sum((x - np.mean(x))**2)/len(x))</span> .\n",
    "However, Microsoft Excel has two different versions of the standard deviation calculation, <span style=\"background-color: #FFFF00\">STDEV.P</span> and <span style=\"background-color: #FFFF00\">STDEV.S</span> . The <span style=\"background-color: #FFFF00\">STDEV.P</span> function performs the above\n",
    "calculation but in the <span style=\"background-color: #FFFF00\">STDEV.S</span> calculation the division is by <span style=\"background-color: #FFFF00\">len(x)-1 </span> rather\n",
    "than <span style=\"background-color: #FFFF00\">len(x)</span> . Research these Excel functions, writing a note in a Markdown cell\n",
    "about the difference between them. Then use numpy to perform a simulation\n",
    "demonstrating that the <span style=\"background-color: #FFFF00\">STDEV.S</span> calculation is a better estimate for the standard deviation of a population when performed on a sample. Note that part of\n",
    "this task is to figure out the terminology in the previous sentence."
   ]
  },
  {
   "cell_type": "markdown",
   "metadata": {},
   "source": [
    "4. TBC"
   ]
  },
  {
   "cell_type": "markdown",
   "metadata": {},
   "source": [
    "***\n",
    "# Task 1: Caluclate a square root\n",
    "<br>"
   ]
  },
  {
   "cell_type": "markdown",
   "metadata": {},
   "source": [
    "### Introduction"
   ]
  },
  {
   "cell_type": "markdown",
   "metadata": {},
   "source": [
    "Having read the brief I will complete the following list of tasks:\n",
    "<br>\n",
    "\n",
    "- Research the following:\n",
    "    - Definition of square root\n",
    "    - Newtons Method\n",
    "    - Babylonian Method\n",
    "    - F-String Formatting\n",
    "- Calculate the square root using python.\n",
    "- Test the function and compare output with another function that imports decimal.\n",
    "- Review work and write a conclusion.\n",
    "- Continually add references to the section."
   ]
  },
  {
   "cell_type": "markdown",
   "metadata": {},
   "source": [
    "## Research"
   ]
  },
  {
   "cell_type": "markdown",
   "metadata": {},
   "source": [
    "<b>Definition of Square Root:</b>\n",
    "\n",
    "The square root of a number is another number which produces the first number when it is multiplied by itself. For example, the square root of 16 is 4 [4].\n",
    "\n",
    "Algorithms for calculating square root:\n",
    "\n",
    "<b>Newtons Method</b> for computing the square root of a number. Let a given number be $b$ and let $x$ be a rough guess of the square root of $b$. Newtons method suggests that a better guess, $New x$ can be computed as follows [5]:\n",
    "\n",
    "$$ New x = 0.5 (x + \\frac{b}{x}) $$\n",
    "\n",
    "You can start with $b$ as a rough guess and compute $New x$. From $New x$ you can generate a even better guess, until two successive guesses are very close. Either of these guesses can be considered the square root of $b$ [5].\n",
    "\n",
    "<b>The Babylonian</b> method for finding square root of a number. Make an inital guess using any positive number $x0$.\n",
    "Improve the guess by appling the following formula [6] :\n",
    "\n",
    "$$ x1 = \\frac{(x0 + \\frac{S}{x0})}{2} $$\n",
    "\n",
    "Iterate until convergence, apply result of formula back in as $x1$ and iterate until the desired amount of agreed decimal places is reached.\n",
    "\n",
    "\n",
    "<b>F-String formatting</b>[8,9]\n",
    "Floating point values have the f suffix. We can also specify the precision: the number of decimal places. The precision is a value that goes right after the dot character.\n"
   ]
  },
  {
   "cell_type": "markdown",
   "metadata": {},
   "source": [
    "We can calculate the square root of a number using Newton's method [1].We can find the square root $z$ of a number $x$ using the following formula[2].\n",
    "\n",
    "$$ Z = 0.5 (X + \\frac{N}{X}) $$\n"
   ]
  },
  {
   "cell_type": "code",
   "execution_count": 37,
   "metadata": {},
   "outputs": [],
   "source": [
    "# Adapted from: https://www.geeksforgeeks.org/find-root-of-a-number-using-newtons-method/\n",
    "def sqrtTest():\n",
    "    \"\"\"\n",
    "    A function to calculate the square root of a number n.\n",
    "    \"\"\"\n",
    "    # X is any guess which can be assumed to be N or 1.\n",
    "    x = 2\n",
    "    # Tolerance\n",
    "    l = 0.00001\n",
    "        \n",
    "    count = 0\n",
    "    \n",
    "    while (l) :\n",
    "        count += l\n",
    "        # Calculate a more accurate guess for z\n",
    "        z = 0.5 * (x +2/x)\n",
    "        # If calculated root comes inside the tolerance allowed then break out of the loop.\n",
    "        if(abs(z - x) < l):\n",
    "            break\n",
    "        # Update z\n",
    "        x = z\n",
    "            \n",
    "    return z"
   ]
  },
  {
   "cell_type": "code",
   "execution_count": 38,
   "metadata": {
    "scrolled": true
   },
   "outputs": [
    {
     "name": "stdout",
     "output_type": "stream",
     "text": [
      "The Square Root of 2 is: 1.4142135623746898698271934335934929549694061279296875000000000000000000000000000000000000000000000000\n"
     ]
    }
   ],
   "source": [
    "print (\"The Square Root of 2 is: {:.100f}\".format(sqrtTest()))"
   ]
  },
  {
   "cell_type": "markdown",
   "metadata": {},
   "source": [
    "As seen above the sqrt() function can only output a value of 53 bits of precision."
   ]
  },
  {
   "cell_type": "code",
   "execution_count": 9,
   "metadata": {},
   "outputs": [
    {
     "name": "stdout",
     "output_type": "stream",
     "text": [
      "1.4142135623730950488016887242096980785696718753769480731766797379907324784621070388503875343276415727\n"
     ]
    }
   ],
   "source": [
    "# Adapted from: https://stackoverflow.com/questions/64278117/is-there-a-way-to-create-more-decimal-points-on-python-without-importing-a-libra\n",
    "\n",
    "\"\"\"\n",
    "Function to calculate square root of 2 and output the result correct to 100 decimal places.\n",
    "\"\"\"\n",
    "\n",
    "x = 2 * 10 ** 200\n",
    "\n",
    "r = x\n",
    "\n",
    "def sqrt(x, r):\n",
    "    d0 = abs(x - r**2)\n",
    "    dm = abs(x - (r-1)**2)\n",
    "    dp = abs(x - (r+1)**2)\n",
    "    minimised = d0 <= dm and d0 <= dp\n",
    "    below_min = dp < dm\n",
    "    return minimised, below_min\n",
    "\n",
    "while True:\n",
    "    oldr = r\n",
    "    r = (r + x // r) // 2\n",
    "\n",
    "    minimised, below_min = test_diffs(x, r)\n",
    "    if minimised:\n",
    "        break\n",
    "\n",
    "    if r == oldr:\n",
    "        if below_min:\n",
    "            r += 1\n",
    "        else:\n",
    "            r -= 1\n",
    "        minimised, _ = test_diffs(x, r)\n",
    "        if minimised:\n",
    "            break\n",
    "\n",
    "print(f'{r // 10**100}.{r % 10**100:0100d}')"
   ]
  },
  {
   "cell_type": "code",
   "execution_count": 33,
   "metadata": {},
   "outputs": [],
   "source": [
    "# Using above example to help with this function.\n",
    "def sqrt():\n",
    "    \"\"\"\n",
    "    A function to calculate the square root of 2 to 100 decimal places.\n",
    "    \"\"\"\n",
    "    # X is any guess which can be assumed to be N or 1.\n",
    "    x = 2\n",
    "    \n",
    "    num = x * 10 ** 200\n",
    "    \n",
    "    # Initial guess of x which is halfway between 0 and num\n",
    "    z = num//2\n",
    "    \n",
    "    # Iterate 1000 times using the below equation. \n",
    "    for i in range(0, 1000):\n",
    "        z = (z + num//z)//2\n",
    "        \n",
    "            \n",
    "    # Return the result and by using format specifiers [8], add the decimal point after the first digit.\n",
    "    return f'{z // 10**100}.{z % 10**100:0100d}'\n",
    "\n"
   ]
  },
  {
   "cell_type": "code",
   "execution_count": 9,
   "metadata": {},
   "outputs": [
    {
     "data": {
      "text/plain": [
       "'1.4142135623730950488016887242096980785696718753769480731766797379907324784621070388503875343276415727'"
      ]
     },
     "execution_count": 9,
     "metadata": {},
     "output_type": "execute_result"
    }
   ],
   "source": [
    "sqrt()"
   ]
  },
  {
   "cell_type": "markdown",
   "metadata": {},
   "source": [
    "<br>\n",
    "\n",
    "## Testing "
   ]
  },
  {
   "cell_type": "code",
   "execution_count": 12,
   "metadata": {},
   "outputs": [
    {
     "name": "stdout",
     "output_type": "stream",
     "text": [
      "The Square Root of 2 is: 1.4142135623730951454746218587388284504413604736328125000000000000000000000000000000000000000000000000\n"
     ]
    }
   ],
   "source": [
    "import math\n",
    "print (\"The Square Root of 2 is: {:.100f}\".format(math.sqrt(2)))"
   ]
  },
  {
   "cell_type": "code",
   "execution_count": 55,
   "metadata": {},
   "outputs": [
    {
     "name": "stdout",
     "output_type": "stream",
     "text": [
      "\n",
      "Sqaure root of 2 to 100 decimal places :  1.414213562373095048801688724209698078569671875376948073176679737990732478462107038850387534327641573\n"
     ]
    }
   ],
   "source": [
    "# Adapted from https://stackoverflow.com/questions/4733173/how-can-i-show-an-irrational-number-to-100-decimal-places-in-python\n",
    "from decimal import *\n",
    "getcontext().prec = 100\n",
    "a = Decimal(2)\n",
    "print (\"\\nSqaure root of 2 to 100 decimal places : \", a.sqrt()) "
   ]
  },
  {
   "cell_type": "code",
   "execution_count": 57,
   "metadata": {},
   "outputs": [
    {
     "name": "stdout",
     "output_type": "stream",
     "text": [
      "<class 'decimal.Decimal'>\n",
      "<class 'str'>\n",
      "The numbers are equal \n"
     ]
    }
   ],
   "source": [
    "# Adapted from: https://www.journaldev.com/23715/python-convert-string-to-float#:~:text=We%20can%20convert%20a%20string,object%20__float__()%20function.\n",
    "'''\n",
    "Converting types to float values and then comparing to see if equal.\n",
    "'''\n",
    "getcontext().prec = 100\n",
    "DecimalSqrt = a.sqrt()\n",
    "sqrt = sqrt()\n",
    "\n",
    "# Showing what type each output is.\n",
    "print(type(DecimalSqrt))\n",
    "print(type(sqrt))\n",
    "\n",
    "# Convert to float, cannot compare String value and a decimal.Decimal value.\n",
    "DecimalSqrt =float(DecimalSqrt)\n",
    "sqrt = float(sqrt)\n",
    "\n",
    "# https://www.geeksforgeeks.org/problem-in-comparing-floating-point-numbers-and-how-to-compare-them-correctly/\n",
    "def compareFloatNum(a, b): \n",
    "      \n",
    "    # Correct method to compare \n",
    "    # floating-ponumbers \n",
    "    if (abs(a - b) < 1e-9): \n",
    "        print(\"The numbers are equal \"); \n",
    "    else: \n",
    "        print(\"The numbers are not equal \");\n",
    "        \n",
    "compareFloatNum(DecimalSqrt, sqrt)"
   ]
  },
  {
   "cell_type": "markdown",
   "metadata": {},
   "source": [
    "<br>\n",
    "\n",
    "## Conclusion and Learning Outcomes"
   ]
  },
  {
   "cell_type": "markdown",
   "metadata": {},
   "source": [
    "- Newtons Method is a fast approximation to calculate the square root of a number.\n",
    "- Newtons Method works by taking in a value and iterating using newtons equation until the desired value is achieved, i.e. the difference between the current value and the start vlaue divided by the current value is small enough.\n",
    "- Implemented a function to calculate the square root of two, but only could calculate the result to an accuracy of 53 bits.\n",
    "- Learned that there is 53 bits of precision available for a python float. [3]\n",
    "- Reseached how to calculate the result to 100 decimal places.\n",
    "- Found a function that used format specifiers that was able to display the square root of 2 to 100 decimals.\n",
    "- Adapated this function and was able to complete the task.\n",
    "- Compare the outputs from my sqrt() function and the function using the Decimal import, both outputs are equal."
   ]
  },
  {
   "cell_type": "markdown",
   "metadata": {},
   "source": [
    "<br>\n",
    "\n",
    "## References"
   ]
  },
  {
   "cell_type": "markdown",
   "metadata": {},
   "source": [
    "[1] https://en.wikipedia.org/wiki/Newton%27s_method\n",
    "\n",
    "[2] https://www.geeksforgeeks.org/find-root-of-a-number-using-newtons-method/\n",
    "\n",
    "[3] https://docs.python.org/2/tutorial/floatingpoint.html\n",
    "\n",
    "[4] https://www.collinsdictionary.com/dictionary/english/square-root\n",
    "\n",
    "[5] https://pages.mtu.edu/~shene/COURSES/cs201/NOTES/chap06/sqrt-1.html\n",
    "\n",
    "[6] https://blogs.sas.com/content/iml/2016/05/16/babylonian-square-roots.html\n",
    "\n",
    "[7] https://stackoverflow.com/questions/64278117/is-there-a-way-to-create-more-decimal-points-on-python-without-importing-a-libra\n",
    "\n",
    "[8] https://www.python.org/dev/peps/pep-0498/#format-specifiers\n",
    "\n",
    "[9] https://stackoverflow.com/questions/45310254/fixed-digits-after-decimal-with-f-strings/45310389"
   ]
  },
  {
   "cell_type": "markdown",
   "metadata": {},
   "source": [
    "***"
   ]
  },
  {
   "cell_type": "markdown",
   "metadata": {},
   "source": [
    "<br>\n",
    "\n",
    "# Task 2: The Chi-Squared Test"
   ]
  },
  {
   "cell_type": "markdown",
   "metadata": {},
   "source": [
    "The Chi-squared test for independence is a statistical hypothesis test like a t-test. It is used to analyse whether two categorical variables are independent. The Wikipedia article gives the table below as an example, stating the Chi-squared value based on it is approximately 24.6. Use scipy.stats to verify this value and calculate the associated p value. You should include a short note with references justifying your analysis in a markdown cell.\n",
    "\n",
    "The null hypothesis is that each person's neighborhood of residence is independent of the person's occupational classification."
   ]
  },
  {
   "cell_type": "markdown",
   "metadata": {},
   "source": [
    "| | A | B | C | D | Total |\n",
    "| :- | :-: | :-: |:-: |:-: |:-: |\n",
    "| White Collar | 90 | 60 | 104 | 95 | 349 |\n",
    "| Blue Collar | 30 | 50 | 51 | 20 | 151 |\n",
    "| No Collar | 30 | 40 | 45 | 35 | 150 |\n",
    "| Total | 150 | 150 | 200 | 150 | 650 |"
   ]
  },
  {
   "cell_type": "markdown",
   "metadata": {},
   "source": [
    "<br>\n",
    "\n",
    "## Introduction"
   ]
  },
  {
   "cell_type": "markdown",
   "metadata": {},
   "source": [
    "Having read the brief I will complete the following list of tasks:\n",
    "<br>\n",
    "\n",
    "- Research the Chi-Squared test.\n",
    "\n",
    "- Research Chi-Squared formula and how to use it.\n",
    "\n",
    "- Calculate the Chi-Squared value through theory.\n",
    "\n",
    "- Calculate the Chi-Sqaured value using scipy.stats.\n",
    "\n",
    "- Analyse the results.\n",
    "\n",
    "- Continually add references to the section."
   ]
  },
  {
   "cell_type": "markdown",
   "metadata": {},
   "source": [
    "#### What is the Chi-Squared Test?"
   ]
  },
  {
   "cell_type": "markdown",
   "metadata": {},
   "source": [
    "The Chi-square test is intended to test how likely it is that an observed distribution is due to chance. It is also called a \"goodness of fit\" statistic, because it measures how well the observed distribution of data fits with the distribution that is expected if the variables are independent. Chi is the greek letter Χ, so we can also write it Χ2 Test.[2] It is important to note that the test only works with categorical data, this means the data has to be counted and sorted into categories, it will not work with parametric or continuous data e.g height in inches."
   ]
  },
  {
   "cell_type": "markdown",
   "metadata": {},
   "source": [
    "<br>\n",
    "\n",
    "## Research"
   ]
  },
  {
   "cell_type": "markdown",
   "metadata": {},
   "source": [
    "#### The Chi-Squared Formula [1]"
   ]
  },
  {
   "cell_type": "markdown",
   "metadata": {},
   "source": [
    "$$ X = \\frac{(O - E)^2}{E} $$\n",
    "\n",
    "$O$ stands for the Observed Frequency, this is the frequencies observed in the sample data.\n",
    "\n",
    "$E$ stands for the Expected Frequency, $$ \\frac{Row Total * Column Total}{N} $$\n",
    "\n",
    "\n"
   ]
  },
  {
   "cell_type": "markdown",
   "metadata": {},
   "source": [
    "<br>\n",
    "\n",
    "### Calculating the Chi-Square Value  in theory"
   ]
  },
  {
   "cell_type": "markdown",
   "metadata": {},
   "source": [
    "In the following I am going to calculate the Chi-Squared Value for the above data.\n",
    "\n",
    "$$ Expected Frequency = \\frac{349 * 150}{650} $$"
   ]
  },
  {
   "cell_type": "code",
   "execution_count": 12,
   "metadata": {},
   "outputs": [
    {
     "name": "stdout",
     "output_type": "stream",
     "text": [
      "Expected Frequency = 80.53846153846153\n"
     ]
    }
   ],
   "source": [
    "Row = 349\n",
    "Column = 150\n",
    "Total =650\n",
    "\n",
    "ExpectedFreq = (Row*Column)/Total\n",
    "print(\"Expected Frequency =\", +ExpectedFreq)"
   ]
  },
  {
   "cell_type": "markdown",
   "metadata": {},
   "source": [
    "$$ Expected Frequency = 80.5385 $$\n",
    "\n",
    "Now that we have the Expected Frequency we can calulate the Chi-Squared Value for position (1,1) in the data using the formula.\n",
    "\n",
    "$$ X = \\frac{(90 - 80.5385)^2}{80.5385} $$\n"
   ]
  },
  {
   "cell_type": "code",
   "execution_count": 13,
   "metadata": {},
   "outputs": [
    {
     "name": "stdout",
     "output_type": "stream",
     "text": [
      "Value for position (1,1) =  1.111517873439411\n"
     ]
    }
   ],
   "source": [
    "ExpectedF = 80.5385\n",
    "Observed = 90\n",
    "\n",
    "X = ((Observed - ExpectedF)**2)/ExpectedF\n",
    "print(\"Value for position (1,1) = \", + X)"
   ]
  },
  {
   "cell_type": "markdown",
   "metadata": {},
   "source": [
    "The above example was to calculate the Chi-squared value for position (1,1) in the data, this has to be done for all the observed values in the table. When this is done all the values are summed. This summed total is then used to calculate the p-Value.[1]"
   ]
  },
  {
   "cell_type": "markdown",
   "metadata": {},
   "source": [
    "<br>\n",
    "\n",
    "### Calculating Chi-Squared value using scipy.stats"
   ]
  },
  {
   "cell_type": "code",
   "execution_count": 40,
   "metadata": {},
   "outputs": [
    {
     "name": "stdout",
     "output_type": "stream",
     "text": [
      "<class 'tuple'>\n",
      "The chi statistic = 24.5712028585826\n",
      "The p-Value = 0.0004098425861096696\n",
      "The degree of freedom = 6\n"
     ]
    }
   ],
   "source": [
    "#Adpated from https://docs.scipy.org/doc/scipy/reference/generated/scipy.stats.chi2_contingency.html?highlight=scipy%20stats%20chi2_contingency#scipy.stats.chi2_contingency\n",
    "\"\"\"\n",
    "The following function calculates chi-square statistic and p-value.\n",
    "\"\"\"\n",
    "\n",
    "from scipy.stats import chi2_contingency\n",
    "import numpy as np \n",
    "\n",
    "ObservedData = np.array([[90, 60, 104, 95], [30, 50, 51, 20], [30, 40, 45, 35]])\n",
    "\n",
    "Chi_Square = chi2_contingency(ObservedData)\n",
    "\n",
    "print(type(Chi_Square))\n",
    "print(\"The chi statistic =\", + Chi_Square[0])\n",
    "print(\"The p-Value =\", + Chi_Square[1])\n",
    "print(\"The degree of freedom =\", + Chi_Square[2])\n"
   ]
  },
  {
   "cell_type": "markdown",
   "metadata": {},
   "source": [
    "<br>\n",
    "\n",
    "### Analysis of Results"
   ]
  },
  {
   "cell_type": "markdown",
   "metadata": {},
   "source": [
    "For a Chi-square test, a p-value that is less than or equal to your significance level indicates there is sufficient evidence to conclude that the observed distribution is not the same as the expected distribution. You can conclude that a relationship exists between the categorical variables.[4] Based on this statement we can reject the null hypothesis that each person's neighborhood of residence is independent of the person's occupational classification, since the p-value of 0.0004 is less than the significance level of 0.05."
   ]
  },
  {
   "cell_type": "markdown",
   "metadata": {},
   "source": [
    "## References"
   ]
  },
  {
   "cell_type": "markdown",
   "metadata": {},
   "source": [
    "[1] https://www.ling.upenn.edu/~clight/chisquared.htm\n",
    "\n",
    "[2] https://www.mathsisfun.com/data/chi-square-test.html \n",
    "\n",
    "[3] https://docs.scipy.org/doc/scipy/reference/generated/scipy.stats.chi2_contingency.html?highlight=scipy%20stats%20chi2_contingency#scipy.stats.chi2_contingency\n",
    "\n",
    "[4] https://statisticsbyjim.com/hypothesis-testing/chi-square-test-independence-example/#:~:text=For%20a%20Chi%2Dsquare%20test,exists%20between%20the%20categorical%20variables. "
   ]
  },
  {
   "cell_type": "markdown",
   "metadata": {},
   "source": [
    "***\n",
    "# Task 3"
   ]
  },
  {
   "cell_type": "markdown",
   "metadata": {},
   "source": [
    "The standard deviation of an array of numbers <span style=\"background-color: #FFFF00\"> x</span> is\n",
    "calculated using <span style=\"background-color: #FFFF00\">numpy</span> as <span style=\"background-color: #FFFF00\">np.sqrt(np.sum((x - np.mean(x))**2)/len(x))</span> .\n",
    "However, Microsoft Excel has two different versions of the standard deviation calculation, <span style=\"background-color: #FFFF00\">STDEV.P</span> and <span style=\"background-color: #FFFF00\">STDEV.S</span> . The <span style=\"background-color: #FFFF00\">STDEV.P</span> function performs the above\n",
    "calculation but in the <span style=\"background-color: #FFFF00\">STDEV.S</span> calculation the division is by <span style=\"background-color: #FFFF00\">len(x)-1 </span> rather\n",
    "than <span style=\"background-color: #FFFF00\">len(x)</span> . Research these Excel functions, writing a note in a Markdown cell\n",
    "about the difference between them. Then use numpy to perform a simulation\n",
    "demonstrating that the <span style=\"background-color: #FFFF00\">STDEV.S</span> calculation is a better estimate for the standard deviation of a population when performed on a sample. Note that part of\n",
    "this task is to figure out the terminology in the previous sentence."
   ]
  },
  {
   "cell_type": "markdown",
   "metadata": {},
   "source": [
    "<br>\n",
    "\n",
    "### Introduction"
   ]
  },
  {
   "cell_type": "markdown",
   "metadata": {},
   "source": [
    "Having read the brief I will complete the following list of tasks:\n",
    "<br>\n",
    "\n",
    "- Complete research on STDEV.P and STDEV.S explaining what the functions do.\n",
    "\n",
    "- Compare the differences between the functions.\n",
    "\n",
    "- Use numpy to perform a simulation demonstrating that the STDEV.S calculation is a better estimate for the standard deviation of a population when performed on a sample\n",
    "\n",
    "- Explain my code.\n",
    "\n",
    "- Continually add to references section."
   ]
  },
  {
   "cell_type": "markdown",
   "metadata": {},
   "source": [
    "<br>\n",
    "\n",
    "### Research"
   ]
  },
  {
   "cell_type": "markdown",
   "metadata": {},
   "source": [
    "<b> Standard Deviation:</b>\n",
    "<br>\n",
    "Standard deviation is a measure of how much variance there is in a set of numbers compared to the average (mean) of the numbers. A low standard deviation indicates that the values tend to be close to the mean of the set, while a high standard deviation indicates that the values are spread out over a wider range.[3]\n",
    "\n",
    "<b>STDEV.P:</b>\n",
    "<br>\n",
    "The STDEV.P function calculates the standard deviation for a sample set of data. The STDEV.P function is meant to estimate standard deviation for an entire population.[1]\n",
    "\n",
    "<b>STDEV.S</b>\n",
    "<br>\n",
    "The STDEV.S is a Statistical function that calculates and returns the standard deviation for a sample of data. The STDEV.S calculates standard deviation using the “n-1” method.[2]\n",
    "\n",
    "<b> Compare the differences between STDEV.P and STDEV.S:</b>\n",
    "<br>\n",
    "- The STDEV.P function is used when your data represents the entire population. The STDEV.S function is used when your data is a sample of the entire population.\n",
    "\n",
    "- If we have dataset which is the number of people living in Ireland, we would use STDEV.P because it is <span style=\"background-color: #FFFF00\">All</span> the people in Ireland. Whereas if the dataset is a sample of <span style=\"background-color: #FFFF00\">Some</span> of the people in Ireland, we would ues STDEV.S becuase it is a subset of the whole population.\n",
    "\n",
    "- In STDEV.P function, the squared deviation is divided by the total number of arguments, mostly represented as N. In STDEV.S, the squared deviation is divided by the total number of sample -1. It is represented as N-1.[4]\n",
    "\n",
    "- STDEV.P function considers entire data, and some factors may dominate the result standard deviation. And since it will be taken as the standard deviation for everyone in data, even for minorities, this is called Biased Analysis. This is why this standard deviation is recommended to use only when an analysis is non-destructive.\n",
    "- The STDEV.S function is used on a small sample of the entire population, and we subtract one from the denominator (number of samples arguments). This is called non-biassed analysis of standard deviation. This is used when an analysis is destructive."
   ]
  },
  {
   "cell_type": "markdown",
   "metadata": {},
   "source": [
    "### Calculation"
   ]
  },
  {
   "cell_type": "markdown",
   "metadata": {},
   "source": []
  },
  {
   "cell_type": "markdown",
   "metadata": {},
   "source": [
    "<br>\n",
    "\n",
    "### References"
   ]
  },
  {
   "cell_type": "markdown",
   "metadata": {},
   "source": [
    "[1] STDEV.P definition - https://exceljet.net/excel-functions/excel-stdev.p-function#:~:text=The%20STDEV.,deviation%20for%20an%20entire%20population.\n",
    "\n",
    "[2] STDEV.S definition - https://www.spreadsheetweb.com/excel-stdev-s-function/#:~:text=S%20(STDEV%20S)%20is%20a,%E2%80%9Cn%2D1%E2%80%9D%20method.\n",
    "\n",
    "[3] Standard Deviation definition - https://en.wikipedia.org/wiki/Standard_deviation\n",
    "\n",
    "[4] Difference between STDEV.P & STDEV.S - https://www.exceltip.com/statistical-formulas/how-to-use-excel-stdev-p-function.html#:~:text=Let's%20Explore.-,The%20STDEV.,sample%20of%20the%20entire%20population.\n",
    "\n",
    "[5] "
   ]
  },
  {
   "cell_type": "markdown",
   "metadata": {},
   "source": [
    "End"
   ]
  }
 ],
 "metadata": {
  "kernelspec": {
   "display_name": "Python 3",
   "language": "python",
   "name": "python3"
  },
  "language_info": {
   "codemirror_mode": {
    "name": "ipython",
    "version": 3
   },
   "file_extension": ".py",
   "mimetype": "text/x-python",
   "name": "python",
   "nbconvert_exporter": "python",
   "pygments_lexer": "ipython3",
   "version": "3.8.3"
  }
 },
 "nbformat": 4,
 "nbformat_minor": 4
}
